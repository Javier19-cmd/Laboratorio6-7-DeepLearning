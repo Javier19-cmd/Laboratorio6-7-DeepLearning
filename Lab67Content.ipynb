{
 "cells": [
  {
   "cell_type": "code",
   "execution_count": 1,
   "metadata": {},
   "outputs": [],
   "source": [
    "import pandas as pd\n",
    "from sklearn.feature_extraction.text import TfidfVectorizer\n",
    "from sklearn.metrics.pairwise import linear_kernel\n",
    "import warnings"
   ]
  },
  {
   "cell_type": "code",
   "execution_count": 2,
   "metadata": {},
   "outputs": [],
   "source": [
    "# 1. Cargando de datos y preprocesamiento\n",
    "with warnings.catch_warnings():\n",
    "    warnings.simplefilter(\"ignore\")\n",
    "    data = pd.read_csv('Books.csv', low_memory=False)\n",
    "data = data.sample(frac=0.1, random_state=1).reset_index(drop=True)  # Usando el 10% de los datos"
   ]
  },
  {
   "cell_type": "code",
   "execution_count": 3,
   "metadata": {},
   "outputs": [],
   "source": [
    "# 2. Creación de perfiles de contenido\n",
    "data['Content'] = data['Book-Title'] + ' ' + data['Book-Author'] + ' ' + data['Year-Of-Publication'].astype(str) + ' ' + data['Publisher']\n",
    "data['Content'].fillna('ValorPredeterminado', inplace=True)"
   ]
  },
  {
   "cell_type": "code",
   "execution_count": 4,
   "metadata": {},
   "outputs": [],
   "source": [
    "# 3. Vectorizando el texto (TF-IDF)\n",
    "tfidf_vectorizer = TfidfVectorizer(stop_words='english')\n",
    "tfidf_matrix = tfidf_vectorizer.fit_transform(data['Content'])"
   ]
  },
  {
   "cell_type": "code",
   "execution_count": 5,
   "metadata": {},
   "outputs": [],
   "source": [
    "# 4. Calculando la similitud del texto (similitud coseno)\n",
    "cosine_sim = linear_kernel(tfidf_matrix, tfidf_matrix)"
   ]
  },
  {
   "cell_type": "code",
   "execution_count": 6,
   "metadata": {},
   "outputs": [],
   "source": [
    "# 5. Generación de recomendaciones\n",
    "def get_recommendations(book_title, cosine_sim=cosine_sim):\n",
    "    if book_title in data['Book-Title'].values:\n",
    "        idx = data[data['Book-Title'] == book_title].index[0]  # Obtiene el índice del libro coincidente\n",
    "        sim_scores = list(enumerate(cosine_sim[idx]))\n",
    "        sim_scores = sorted(sim_scores, key=lambda x: x[1], reverse=True)\n",
    "        sim_scores = sim_scores[1:11]  # Recomienda los 10 libros más similares\n",
    "        book_indices = [i[0] for i in sim_scores]\n",
    "        return data['Book-Title'].iloc[book_indices]\n",
    "    else:\n",
    "        return pd.Series([])  # Devuelve una Serie vacía si el libro no se encuentra en el conjunto de datos"
   ]
  },
  {
   "cell_type": "code",
   "execution_count": 7,
   "metadata": {},
   "outputs": [
    {
     "name": "stdout",
     "output_type": "stream",
     "text": [
      "Recomendaciones para el libro 'Skinned Alive: Stories':\n",
      "4788                      Fanny: A Fiction (White, Edmund)\n",
      "17816                                     Forgetting Elena\n",
      "5008                                  Sketches from Memory\n",
      "6696                    The Enchanted Land (Romance Alive)\n",
      "26573      To the Wedding: A Novel (Vintage International)\n",
      "19116                                          Another You\n",
      "470                        Our Paris: Sketches from Memory\n",
      "8533          River Dogs: Stories (Vintage Contemporaries)\n",
      "18308    The Safety of Objects: Stories (Vintage Contem...\n",
      "10586                      Nightrose (Romance Alive Audio)\n",
      "Name: Book-Title, dtype: object\n"
     ]
    }
   ],
   "source": [
    "# Prueba con un libro de ejemplo\n",
    "libro = \"Skinned Alive: Stories\"\n",
    "if libro in data['Book-Title'].values:\n",
    "    recommendations = get_recommendations(libro)\n",
    "    print(\"Recomendaciones para el libro '{}':\".format(libro))\n",
    "    print(recommendations)\n",
    "else:\n",
    "    print(f\"'{libro}' no se encuentra en el conjunto de datos.\")"
   ]
  }
 ],
 "metadata": {
  "accelerator": "TPU",
  "colab": {
   "authorship_tag": "ABX9TyNAElkj0fcvPPKnEU6GXjsD",
   "include_colab_link": true,
   "mount_file_id": "1sbBXLncHg9BGPt82yxJ0BFtlkjwzS4VV",
   "provenance": []
  },
  "kernelspec": {
   "display_name": "Python 3 (ipykernel)",
   "language": "python",
   "name": "python3"
  },
  "language_info": {
   "codemirror_mode": {
    "name": "ipython",
    "version": 3
   },
   "file_extension": ".py",
   "mimetype": "text/x-python",
   "name": "python",
   "nbconvert_exporter": "python",
   "pygments_lexer": "ipython3",
   "version": "3.10.5"
  }
 },
 "nbformat": 4,
 "nbformat_minor": 1
}
