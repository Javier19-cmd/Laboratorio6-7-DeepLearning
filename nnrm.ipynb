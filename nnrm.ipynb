{
 "cells": [
  {
   "cell_type": "code",
   "execution_count": 26,
   "id": "2c65573a-02b0-4b6a-9fd0-7635738b4b0d",
   "metadata": {},
   "outputs": [
    {
     "name": "stderr",
     "output_type": "stream",
     "text": [
      "2023-10-27 16:24:03.509277: I tensorflow/core/platform/cpu_feature_guard.cc:193] This TensorFlow binary is optimized with oneAPI Deep Neural Network Library (oneDNN) to use the following CPU instructions in performance-critical operations:  SSE4.1 SSE4.2\n",
      "To enable them in other operations, rebuild TensorFlow with the appropriate compiler flags.\n"
     ]
    }
   ],
   "source": [
    "import numpy as np\n",
    "import pandas as pd\n",
    "import os, time, re\n",
    "import pickle, gzip, datetime\n",
    "\n",
    "from datetime import datetime\n",
    "\n",
    "now = datetime.now()\n",
    "\n",
    "import matplotlib.pyplot as plt\n",
    "import seaborn as sns\n",
    "color = sns.color_palette()\n",
    "import matplotlib as mpl\n",
    "%matplotlib inline\n",
    "\n",
    "\n",
    "from sklearn import preprocessing as pp\n",
    "from sklearn.model_selection import train_test_split\n",
    "from sklearn.model_selection import StratifiedKFold\n",
    "from sklearn.metrics import log_loss\n",
    "from sklearn.metrics import precision_recall_curve, average_precision_score\n",
    "from sklearn.metrics import roc_curve, auc, roc_auc_score, mean_squared_error\n",
    "#import lightgbm as lgb\n",
    "\n",
    "\n",
    "import tensorflow as tf\n",
    "import keras\n",
    "\n",
    "from tensorflow.keras.models import Sequential, Model\n",
    "from tensorflow.keras.layers import Activation, Dense, Dropout\n",
    "from tensorflow.keras.layers import BatchNormalization, Input, Lambda\n",
    "from tensorflow.keras.layers import Embedding, Flatten, dot\n",
    "from tensorflow.keras import regularizers\n",
    "from tensorflow.keras.losses import mse, binary_crossentropy"
   ]
  },
  {
   "cell_type": "code",
   "execution_count": 4,
   "id": "214d6315-a4cb-4741-a67e-00073eecc56e",
   "metadata": {},
   "outputs": [],
   "source": [
    "ratingDF = pd.read_csv('ratings.csv')"
   ]
  },
  {
   "cell_type": "code",
   "execution_count": 5,
   "id": "507e5829-ef58-4c91-90b0-01779cc0d3ca",
   "metadata": {},
   "outputs": [],
   "source": [
    "ratingDF.userId = ratingDF.userId.astype(str).astype(int)\n",
    "ratingDF.movieId = ratingDF.movieId.astype(str).astype(int)\n",
    "ratingDF.rating = ratingDF.rating.astype(str).astype(float)\n",
    "ratingDF.timestamp = ratingDF.timestamp.apply(lambda x: now.strftime(\"%m/%d/%Y, %H:%M:%S\"))"
   ]
  },
  {
   "cell_type": "code",
   "execution_count": 6,
   "id": "f9b1be7d-4bf2-431c-924e-a2b25a6dc409",
   "metadata": {},
   "outputs": [],
   "source": [
    "n_users = ratingDF.userId.unique().shape[0]\n",
    "n_movies = ratingDF.movieId.unique().shape[0]\n",
    "n_ratings = len(ratingDF)\n",
    "avg_ratings_per_user = n_ratings/n_users"
   ]
  },
  {
   "cell_type": "code",
   "execution_count": 7,
   "id": "734dd022-9ac6-46a0-9776-74cc5bcfb5fd",
   "metadata": {},
   "outputs": [
    {
     "name": "stdout",
     "output_type": "stream",
     "text": [
      "Number of unique users:  138493\n",
      "Number of unique movies:  26744\n",
      "Number of total ratings:  20000263\n",
      "Average number of ratings per user:  144.4135299257002\n"
     ]
    }
   ],
   "source": [
    "print('Number of unique users: ', n_users)\n",
    "print('Number of unique movies: ', n_movies)\n",
    "print('Number of total ratings: ', n_ratings)\n",
    "print('Average number of ratings per user: ', avg_ratings_per_user)"
   ]
  },
  {
   "cell_type": "code",
   "execution_count": 8,
   "id": "cb40674d-23c1-4fa7-a3f5-c26f033c8139",
   "metadata": {},
   "outputs": [
    {
     "data": {
      "text/plain": [
       "userId       12840344\n",
       "movieId      12840344\n",
       "rating       12840344\n",
       "timestamp    12840344\n",
       "dtype: int64"
      ]
     },
     "execution_count": 8,
     "metadata": {},
     "output_type": "execute_result"
    }
   ],
   "source": [
    "movieIndex = ratingDF.groupby(\"movieId\").count().sort_values(by= \\\n",
    "\"rating\",ascending=False)[0:1000].index\n",
    "ratingDFX2 = ratingDF[ratingDF.movieId.isin(movieIndex)]\n",
    "ratingDFX2.count()"
   ]
  },
  {
   "cell_type": "code",
   "execution_count": 9,
   "id": "e4ebed53-cd26-4aaa-b528-209946ae648a",
   "metadata": {},
   "outputs": [
    {
     "data": {
      "text/plain": [
       "userId       90213\n",
       "movieId      90213\n",
       "rating       90213\n",
       "timestamp    90213\n",
       "dtype: int64"
      ]
     },
     "execution_count": 9,
     "metadata": {},
     "output_type": "execute_result"
    }
   ],
   "source": [
    "userIndex = ratingDFX2.groupby(\"userId\").count().sort_values(by= \\\n",
    "\"rating\",ascending=False).sample(n=1000, random_state=2018).index\n",
    "ratingDFX3 = ratingDFX2[ratingDFX2.userId.isin(userIndex)]\n",
    "ratingDFX3.count()"
   ]
  },
  {
   "cell_type": "code",
   "execution_count": 10,
   "id": "ce542d33-9ffa-4055-83d4-6a0642885578",
   "metadata": {},
   "outputs": [],
   "source": [
    "movies = ratingDFX3.movieId.unique()\n",
    "moviesDF = pd.DataFrame(data=movies,columns=['originalMovieId'])\n",
    "moviesDF['newMovieId'] = moviesDF.index+1"
   ]
  },
  {
   "cell_type": "code",
   "execution_count": 11,
   "id": "35457413-8977-44c9-9705-d3274da54f73",
   "metadata": {},
   "outputs": [],
   "source": [
    "users = ratingDFX3.userId.unique()\n",
    "usersDF = pd.DataFrame(data=users,columns=['originalUserId'])\n",
    "usersDF['newUserId'] = usersDF.index+1"
   ]
  },
  {
   "cell_type": "code",
   "execution_count": 12,
   "id": "10978b19-eccb-4dc5-8c8e-7c10c463ea02",
   "metadata": {},
   "outputs": [],
   "source": [
    "ratingDFX3 = ratingDFX3.merge(moviesDF,left_on='movieId', \\\n",
    "right_on='originalMovieId')\n",
    "ratingDFX3.drop(labels='originalMovieId', axis=1, inplace=True)\n",
    "ratingDFX3 = ratingDFX3.merge(usersDF,left_on='userId', \\\n",
    "right_on='originalUserId')\n",
    "ratingDFX3.drop(labels='originalUserId', axis=1, inplace=True)"
   ]
  },
  {
   "cell_type": "code",
   "execution_count": 13,
   "id": "9093386e-4fab-4950-b3d0-8aa0f4c74afb",
   "metadata": {},
   "outputs": [],
   "source": [
    "n_users = ratingDFX3.userId.unique().shape[0]\n",
    "n_movies = ratingDFX3.movieId.unique().shape[0]\n",
    "n_ratings = len(ratingDFX3)\n",
    "avg_ratings_per_user = n_ratings/n_users"
   ]
  },
  {
   "cell_type": "code",
   "execution_count": 14,
   "id": "53946ee1-6854-40b8-a505-73d2c6500b28",
   "metadata": {},
   "outputs": [
    {
     "name": "stdout",
     "output_type": "stream",
     "text": [
      "Number of unique users:  1000\n",
      "Number of unique movies:  1000\n",
      "Number of total ratings:  90213\n",
      "Average number of ratings per user:  90.213\n"
     ]
    }
   ],
   "source": [
    "print('Number of unique users: ', n_users)\n",
    "print('Number of unique movies: ', n_movies)\n",
    "print('Number of total ratings: ', n_ratings)\n",
    "print('Average number of ratings per user: ', avg_ratings_per_user)"
   ]
  },
  {
   "cell_type": "code",
   "execution_count": 15,
   "id": "d6b5d321-e0e3-4e9b-94db-1d4d88191021",
   "metadata": {},
   "outputs": [],
   "source": [
    "X_train, X_test = train_test_split(ratingDFX3,\n",
    "test_size=0.10, shuffle=True, random_state=2018)\n",
    "X_validation, X_test = train_test_split(X_test,\n",
    "test_size=0.50, shuffle=True, random_state=2018)"
   ]
  },
  {
   "cell_type": "code",
   "execution_count": 16,
   "id": "87bb9c0a-43d4-4d40-8312-271ed9a42e9c",
   "metadata": {},
   "outputs": [
    {
     "name": "stdout",
     "output_type": "stream",
     "text": [
      "Shape of train set: (81191, 6)\n",
      "Shape of validation set: (4511, 6)\n",
      "Shape of test set:  (4511, 6)\n"
     ]
    }
   ],
   "source": [
    "print('Shape of train set:', X_train.shape)\n",
    "print('Shape of validation set:',X_validation.shape)\n",
    "print('Shape of test set: ',X_test.shape)"
   ]
  },
  {
   "cell_type": "code",
   "execution_count": 17,
   "id": "da82f64d-6455-4979-a789-f986e2bedd4d",
   "metadata": {},
   "outputs": [
    {
     "name": "stdout",
     "output_type": "stream",
     "text": [
      "Size of train set: 487146\n",
      "Size of validation set: 27066\n",
      "Size of test set:  27066\n"
     ]
    }
   ],
   "source": [
    "print('Size of train set:', X_train.size)\n",
    "print('Size of validation set:',X_validation.size)\n",
    "print('Size of test set: ',X_test.size)"
   ]
  },
  {
   "cell_type": "code",
   "execution_count": 18,
   "id": "1952695c-5fbf-4c3f-b7cf-1965ff9a8eab",
   "metadata": {},
   "outputs": [],
   "source": [
    "# Generate ratings matrix for train\n",
    "ratings_train = np.zeros((n_users, n_movies))\n",
    "for row in X_train.itertuples():\n",
    "    ratings_train[row[6]-1, row[5]-1] = row[3]"
   ]
  },
  {
   "cell_type": "code",
   "execution_count": 19,
   "id": "efebc14e-ed41-4954-a8d4-f9328709d1fd",
   "metadata": {},
   "outputs": [
    {
     "name": "stdout",
     "output_type": "stream",
     "text": [
      "Sparsity: 8.12%\n"
     ]
    }
   ],
   "source": [
    "sparsity = float(len(ratings_train.nonzero()[0]))\n",
    "sparsity /= (ratings_train.shape[0] * ratings_train.shape[1])\n",
    "sparsity *= 100\n",
    "print('Sparsity: {:4.2f}%'.format(sparsity))"
   ]
  },
  {
   "cell_type": "code",
   "execution_count": 20,
   "id": "11c73f6e-090a-4aa6-adf1-809d28e2ce55",
   "metadata": {},
   "outputs": [],
   "source": [
    "# Generate ratings matrix for validation\n",
    "ratings_validation = np.zeros((n_users, n_movies))\n",
    "for row in X_validation.itertuples():\n",
    "    ratings_validation[row[6]-1, row[5]-1] = row[3]"
   ]
  },
  {
   "cell_type": "code",
   "execution_count": 21,
   "id": "0adf3496-0703-4e6e-821d-0d74448b037f",
   "metadata": {},
   "outputs": [],
   "source": [
    "# Generate ratings matrix for test\n",
    "ratings_test = np.zeros((n_users, n_movies))\n",
    "for row in X_test.itertuples():\n",
    "    ratings_test[row[6]-1, row[5]-1] = row[3]"
   ]
  },
  {
   "cell_type": "code",
   "execution_count": 27,
   "id": "5fb5e55a-0192-4377-8c64-71f092ca5461",
   "metadata": {},
   "outputs": [
    {
     "name": "stderr",
     "output_type": "stream",
     "text": [
      "2023-10-27 16:31:34.662430: I tensorflow/core/platform/cpu_feature_guard.cc:193] This TensorFlow binary is optimized with oneAPI Deep Neural Network Library (oneDNN) to use the following CPU instructions in performance-critical operations:  SSE4.1 SSE4.2\n",
      "To enable them in other operations, rebuild TensorFlow with the appropriate compiler flags.\n"
     ]
    }
   ],
   "source": [
    "n_latent_factors = 1\n",
    "user_input = Input(shape=[1], name='user')\n",
    "user_embedding = Embedding(input_dim=n_users + 1, output_dim=n_latent_factors,\n",
    "name='user_embedding')(user_input)\n",
    "user_vec = Flatten(name='flatten_users')(user_embedding)\n",
    "movie_input = Input(shape=[1], name='movie')\n",
    "movie_embedding = Embedding(input_dim=n_movies + 1,\n",
    "output_dim=n_latent_factors,\n",
    "name='movie_embedding')(movie_input)\n",
    "movie_vec = Flatten(name='flatten_movies')(movie_embedding)\n",
    "product = dot([movie_vec, user_vec], axes=1)\n",
    "model = Model(inputs=[user_input, movie_input], outputs=product)\n",
    "model.compile('adam', 'mean_squared_error')"
   ]
  },
  {
   "cell_type": "code",
   "execution_count": 30,
   "id": "5e59e18b-31d1-4e6c-b119-05daa292a417",
   "metadata": {},
   "outputs": [
    {
     "data": {
      "text/html": [
       "<div>\n",
       "<style scoped>\n",
       "    .dataframe tbody tr th:only-of-type {\n",
       "        vertical-align: middle;\n",
       "    }\n",
       "\n",
       "    .dataframe tbody tr th {\n",
       "        vertical-align: top;\n",
       "    }\n",
       "\n",
       "    .dataframe thead th {\n",
       "        text-align: right;\n",
       "    }\n",
       "</style>\n",
       "<table border=\"1\" class=\"dataframe\">\n",
       "  <thead>\n",
       "    <tr style=\"text-align: right;\">\n",
       "      <th></th>\n",
       "      <th>userId</th>\n",
       "      <th>movieId</th>\n",
       "      <th>rating</th>\n",
       "      <th>timestamp</th>\n",
       "      <th>newMovieId</th>\n",
       "      <th>newUserId</th>\n",
       "    </tr>\n",
       "  </thead>\n",
       "  <tbody>\n",
       "    <tr>\n",
       "      <th>77796</th>\n",
       "      <td>118358</td>\n",
       "      <td>2918</td>\n",
       "      <td>4.0</td>\n",
       "      <td>10/27/2023, 16:13:47</td>\n",
       "      <td>725</td>\n",
       "      <td>841</td>\n",
       "    </tr>\n",
       "    <tr>\n",
       "      <th>20109</th>\n",
       "      <td>48345</td>\n",
       "      <td>1907</td>\n",
       "      <td>3.0</td>\n",
       "      <td>10/27/2023, 16:13:47</td>\n",
       "      <td>345</td>\n",
       "      <td>347</td>\n",
       "    </tr>\n",
       "    <tr>\n",
       "      <th>61046</th>\n",
       "      <td>25880</td>\n",
       "      <td>74458</td>\n",
       "      <td>4.0</td>\n",
       "      <td>10/27/2023, 16:13:47</td>\n",
       "      <td>75</td>\n",
       "      <td>180</td>\n",
       "    </tr>\n",
       "    <tr>\n",
       "      <th>58074</th>\n",
       "      <td>73713</td>\n",
       "      <td>39</td>\n",
       "      <td>4.0</td>\n",
       "      <td>10/27/2023, 16:13:47</td>\n",
       "      <td>465</td>\n",
       "      <td>522</td>\n",
       "    </tr>\n",
       "    <tr>\n",
       "      <th>77706</th>\n",
       "      <td>117584</td>\n",
       "      <td>590</td>\n",
       "      <td>4.0</td>\n",
       "      <td>10/27/2023, 16:13:47</td>\n",
       "      <td>255</td>\n",
       "      <td>831</td>\n",
       "    </tr>\n",
       "    <tr>\n",
       "      <th>...</th>\n",
       "      <td>...</td>\n",
       "      <td>...</td>\n",
       "      <td>...</td>\n",
       "      <td>...</td>\n",
       "      <td>...</td>\n",
       "      <td>...</td>\n",
       "    </tr>\n",
       "    <tr>\n",
       "      <th>10388</th>\n",
       "      <td>27131</td>\n",
       "      <td>52</td>\n",
       "      <td>5.0</td>\n",
       "      <td>10/27/2023, 16:13:47</td>\n",
       "      <td>634</td>\n",
       "      <td>195</td>\n",
       "    </tr>\n",
       "    <tr>\n",
       "      <th>40092</th>\n",
       "      <td>108946</td>\n",
       "      <td>2028</td>\n",
       "      <td>4.0</td>\n",
       "      <td>10/27/2023, 16:13:47</td>\n",
       "      <td>57</td>\n",
       "      <td>769</td>\n",
       "    </tr>\n",
       "    <tr>\n",
       "      <th>84745</th>\n",
       "      <td>32312</td>\n",
       "      <td>5299</td>\n",
       "      <td>4.0</td>\n",
       "      <td>10/27/2023, 16:13:47</td>\n",
       "      <td>380</td>\n",
       "      <td>243</td>\n",
       "    </tr>\n",
       "    <tr>\n",
       "      <th>80098</th>\n",
       "      <td>93974</td>\n",
       "      <td>508</td>\n",
       "      <td>5.0</td>\n",
       "      <td>10/27/2023, 16:13:47</td>\n",
       "      <td>39</td>\n",
       "      <td>654</td>\n",
       "    </tr>\n",
       "    <tr>\n",
       "      <th>60006</th>\n",
       "      <td>7934</td>\n",
       "      <td>1210</td>\n",
       "      <td>5.0</td>\n",
       "      <td>10/27/2023, 16:13:47</td>\n",
       "      <td>138</td>\n",
       "      <td>61</td>\n",
       "    </tr>\n",
       "  </tbody>\n",
       "</table>\n",
       "<p>81191 rows × 6 columns</p>\n",
       "</div>"
      ],
      "text/plain": [
       "       userId  movieId  rating             timestamp  newMovieId  newUserId\n",
       "77796  118358     2918     4.0  10/27/2023, 16:13:47         725        841\n",
       "20109   48345     1907     3.0  10/27/2023, 16:13:47         345        347\n",
       "61046   25880    74458     4.0  10/27/2023, 16:13:47          75        180\n",
       "58074   73713       39     4.0  10/27/2023, 16:13:47         465        522\n",
       "77706  117584      590     4.0  10/27/2023, 16:13:47         255        831\n",
       "...       ...      ...     ...                   ...         ...        ...\n",
       "10388   27131       52     5.0  10/27/2023, 16:13:47         634        195\n",
       "40092  108946     2028     4.0  10/27/2023, 16:13:47          57        769\n",
       "84745   32312     5299     4.0  10/27/2023, 16:13:47         380        243\n",
       "80098   93974      508     5.0  10/27/2023, 16:13:47          39        654\n",
       "60006    7934     1210     5.0  10/27/2023, 16:13:47         138         61\n",
       "\n",
       "[81191 rows x 6 columns]"
      ]
     },
     "execution_count": 30,
     "metadata": {},
     "output_type": "execute_result"
    }
   ],
   "source": [
    "X_train"
   ]
  },
  {
   "cell_type": "code",
   "execution_count": 28,
   "id": "b77d6248-9ad4-43f8-a64f-d1a49c8b6a53",
   "metadata": {},
   "outputs": [
    {
     "name": "stdout",
     "output_type": "stream",
     "text": [
      "Epoch 1/20\n",
      "2538/2538 [==============================] - 2s 593us/step - loss: 13.4662 - val_loss: 11.5691\n",
      "Epoch 2/20\n",
      "2538/2538 [==============================] - 1s 544us/step - loss: 8.8414 - val_loss: 6.3055\n",
      "Epoch 3/20\n",
      "2538/2538 [==============================] - 1s 543us/step - loss: 4.4920 - val_loss: 3.2660\n",
      "Epoch 4/20\n",
      "2538/2538 [==============================] - 1s 539us/step - loss: 2.4971 - val_loss: 2.0223\n",
      "Epoch 5/20\n",
      "2538/2538 [==============================] - 1s 538us/step - loss: 1.6228 - val_loss: 1.4299\n",
      "Epoch 6/20\n",
      "2538/2538 [==============================] - 1s 539us/step - loss: 1.1891 - val_loss: 1.1310\n",
      "Epoch 7/20\n",
      "2538/2538 [==============================] - 1s 540us/step - loss: 0.9688 - val_loss: 0.9750\n",
      "Epoch 8/20\n",
      "2538/2538 [==============================] - 1s 539us/step - loss: 0.8555 - val_loss: 0.8941\n",
      "Epoch 9/20\n",
      "2538/2538 [==============================] - 1s 539us/step - loss: 0.7965 - val_loss: 0.8486\n",
      "Epoch 10/20\n",
      "2538/2538 [==============================] - 1s 589us/step - loss: 0.7652 - val_loss: 0.8260\n",
      "Epoch 11/20\n",
      "2538/2538 [==============================] - 1s 546us/step - loss: 0.7486 - val_loss: 0.8134\n",
      "Epoch 12/20\n",
      "2538/2538 [==============================] - 1s 540us/step - loss: 0.7399 - val_loss: 0.8061\n",
      "Epoch 13/20\n",
      "2538/2538 [==============================] - 1s 543us/step - loss: 0.7347 - val_loss: 0.8037\n",
      "Epoch 14/20\n",
      "2538/2538 [==============================] - 1s 541us/step - loss: 0.7318 - val_loss: 0.8017\n",
      "Epoch 15/20\n",
      "2538/2538 [==============================] - 1s 544us/step - loss: 0.7303 - val_loss: 0.7989\n",
      "Epoch 16/20\n",
      "2538/2538 [==============================] - 1s 543us/step - loss: 0.7294 - val_loss: 0.7988\n",
      "Epoch 17/20\n",
      "2538/2538 [==============================] - 1s 545us/step - loss: 0.7288 - val_loss: 0.7984\n",
      "Epoch 18/20\n",
      "2538/2538 [==============================] - 1s 545us/step - loss: 0.7285 - val_loss: 0.7988\n",
      "Epoch 19/20\n",
      "2538/2538 [==============================] - 1s 585us/step - loss: 0.7282 - val_loss: 0.7982\n",
      "Epoch 20/20\n",
      "2538/2538 [==============================] - 1s 555us/step - loss: 0.7281 - val_loss: 0.7977\n"
     ]
    }
   ],
   "source": [
    "history = model.fit(x=[X_train.newUserId, X_train.newMovieId],\n",
    "                    y=X_train.rating, epochs=20,\n",
    "                    validation_data=([X_validation.newUserId,\n",
    "                                      X_validation.newMovieId], X_validation.rating),\n",
    "                    verbose=1)"
   ]
  },
  {
   "cell_type": "code",
   "execution_count": 29,
   "id": "536c79c2-d2af-4baf-ac8b-93ae60c53ae2",
   "metadata": {},
   "outputs": [
    {
     "name": "stdout",
     "output_type": "stream",
     "text": [
      "Minimum MSE:  0.7977213859558105\n"
     ]
    },
    {
     "data": {
      "image/png": "[encoded data removed]",
      "text/plain": [
       "<Figure size 640x480 with 1 Axes>"
      ]
     },
     "metadata": {},
     "output_type": "display_data"
    }
   ],
   "source": [
    "pd.Series(history.history['val_loss'][10:]).plot(logy=False)\n",
    "plt.xlabel(\"Epoch\")\n",
    "plt.ylabel(\"Validation Error\")\n",
    "print('Minimum MSE: ', min(history.history['val_loss']))"
   ]
  }
 ],
 "metadata": {
  "kernelspec": {
   "display_name": "Python 3 (ipykernel)",
   "language": "python",
   "name": "python3"
  },
  "language_info": {
   "codemirror_mode": {
    "name": "ipython",
    "version": 3
   },
   "file_extension": ".py",
   "mimetype": "text/x-python",
   "name": "python",
   "nbconvert_exporter": "python",
   "pygments_lexer": "ipython3",
   "version": "3.9.7"
  }
 },
 "nbformat": 4,
 "nbformat_minor": 5
}
