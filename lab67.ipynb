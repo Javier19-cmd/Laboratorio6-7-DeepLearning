{
 "cells": [
  {
   "cell_type": "markdown",
   "metadata": {},
   "source": [
    "Primer red neuronal"
   ]
  },
  {
   "cell_type": "code",
   "execution_count": 26,
   "metadata": {},
   "outputs": [
    {
     "name": "stderr",
     "output_type": "stream",
     "text": [
      "C:\\Users\\sebas\\AppData\\Local\\Temp\\ipykernel_26580\\2816446117.py:12: DtypeWarning: Columns (3) have mixed types. Specify dtype option on import or set low_memory=False.\n",
      "  books = pd.read_csv('./archive/Books.csv').sample(n=100000, random_state=42)\n"
     ]
    },
    {
     "name": "stdout",
     "output_type": "stream",
     "text": [
      "Epoch 1/10\n",
      " 234/3125 [=>............................] - ETA: 7:14 - loss: 22.8762"
     ]
    }
   ],
   "source": [
    "import pandas as pd\n",
    "import numpy as np\n",
    "import re\n",
    "from sklearn.preprocessing import LabelEncoder\n",
    "from tensorflow.keras.models import Model\n",
    "from tensorflow.keras.layers import Input, Embedding, Flatten\n",
    "from sklearn.metrics import mean_squared_error\n",
    "import numpy as np\n",
    "\n",
    "# Carga los datos\n",
    "users = pd.read_csv('./archive/Users.csv', nrows=20000)\n",
    "books = pd.read_csv('./archive/Books.csv').sample(n=100000, random_state=42)\n",
    "ratings = pd.read_csv('./archive/Ratings.csv').sample(n=100000, random_state=42)\n",
    "\n",
    "def clean_isbn(isbn):\n",
    "    \"\"\"Elimina todos los caracteres que no sean números de la cadena ISBN.\"\"\"\n",
    "    return re.sub(r'[^0-9]', '', isbn)\n",
    "\n",
    "books['ISBN'] = books['ISBN'].apply(clean_isbn)\n",
    "\n",
    "# Usar LabelEncoder para mapear 'ISBN' a valores numéricos únicos\n",
    "isbn_encoder = LabelEncoder()\n",
    "books['ISBN'] = isbn_encoder.fit_transform(books['ISBN'])\n",
    "\n",
    "# Asegúrate de que el valor máximo sea igual o menor que el número de elementos en la capa de Embedding\n",
    "num_books = books['ISBN'].nunique()  # Número único de libros\n",
    "max_isbn = books['ISBN'].max()\n",
    "\n",
    "users['Location'] = users['Location'].astype('category').cat.codes\n",
    "users['Age'] = users['Age'].astype('category').cat.codes\n",
    "books['Book-Author'] = books['Book-Author'].astype('category').cat.codes\n",
    "books['Publisher'] = books['Publisher'].astype('category').cat.codes\n",
    "\n",
    "# Convierte la columna Year-Of-Publication a tipo int\n",
    "books['Year-Of-Publication'] = books['Year-Of-Publication'].astype('int')\n",
    "\n",
    "# Normaliza los datos\n",
    "users['Age'] = users['Age'] / np.max(users['Age'])\n",
    "books['Year-Of-Publication'] = books['Year-Of-Publication'] / np.max(books['Year-Of-Publication'])\n",
    "\n",
    "# Creando la NNRM\n",
    "book_input = Input(shape=(1,), name='book_input')\n",
    "\n",
    "# Asegúrate de que 'input_dim' coincida con el número de libros únicos\n",
    "book_embedding = Embedding(input_dim=num_books, output_dim=128, name='book_embedding')(book_input)\n",
    "\n",
    "# Aplana las capas de incrustación\n",
    "book_embedding = Flatten()(book_embedding)\n",
    "\n",
    "# Crea el modelo\n",
    "model = Model(inputs=[book_input], outputs=book_embedding)\n",
    "\n",
    "# Compila el modelo\n",
    "model.compile(optimizer='adam', loss='mse')\n",
    "\n",
    "# Entrena el modelo\n",
    "model.fit([books['ISBN'].values], ratings['Book-Rating'].values, epochs=10)\n",
    "\n",
    "# Realiza predicciones con el modelo\n",
    "predicted_ratings = model.predict([books['ISBN'].values])\n",
    "\n",
    "# Calcula el RMSE\n",
    "rmse = np.sqrt(mean_squared_error(ratings['Book-Rating'].values, predicted_ratings))\n",
    "print(f'RMSE: {rmse}')\n",
    "\n",
    "# Enseñando el accuracy\n",
    "print(f'Accuracy: {100 - rmse}%')"
   ]
  }
 ],
 "metadata": {
  "kernelspec": {
   "display_name": "Python 3",
   "language": "python",
   "name": "python3"
  },
  "language_info": {
   "codemirror_mode": {
    "name": "ipython",
    "version": 3
   },
   "file_extension": ".py",
   "mimetype": "text/x-python",
   "name": "python",
   "nbconvert_exporter": "python",
   "pygments_lexer": "ipython3",
   "version": "3.11.3"
  }
 },
 "nbformat": 4,
 "nbformat_minor": 2
}
