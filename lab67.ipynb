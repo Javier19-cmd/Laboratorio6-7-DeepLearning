{
 "cells": [
  {
   "cell_type": "markdown",
   "metadata": {},
   "source": [
    "Primer red neuronal"
   ]
  },
  {
   "cell_type": "code",
   "execution_count": 4,
   "metadata": {},
   "outputs": [
    {
     "name": "stderr",
     "output_type": "stream",
     "text": [
      "C:\\Users\\sebas\\AppData\\Local\\Temp\\ipykernel_23672\\2134458638.py:8: DtypeWarning: Columns (3) have mixed types. Specify dtype option on import or set low_memory=False.\n",
      "  books = pd.read_csv(\"./archive/Books.csv\")\n"
     ]
    },
    {
     "ename": "ValueError",
     "evalue": "not enough values to unpack (expected 4, got 2)",
     "output_type": "error",
     "traceback": [
      "\u001b[1;31m---------------------------------------------------------------------------\u001b[0m",
      "\u001b[1;31mValueError\u001b[0m                                Traceback (most recent call last)",
      "\u001b[1;32mc:\\Users\\sebas\\Documents\\GitHub\\Laboratorio6-7-DeepLearning\\lab67.ipynb Celda 2\u001b[0m line \u001b[0;36m1\n\u001b[0;32m     <a href='vscode-notebook-cell:/c%3A/Users/sebas/Documents/GitHub/Laboratorio6-7-DeepLearning/lab67.ipynb#W0sZmlsZQ%3D%3D?line=10'>11</a>\u001b[0m ratings[\u001b[39m\"\u001b[39m\u001b[39mBook-Rating\u001b[39m\u001b[39m\"\u001b[39m] \u001b[39m=\u001b[39m ratings[\u001b[39m\"\u001b[39m\u001b[39mBook-Rating\u001b[39m\u001b[39m\"\u001b[39m]\u001b[39m.\u001b[39mastype(\u001b[39m\"\u001b[39m\u001b[39mfloat32\u001b[39m\u001b[39m\"\u001b[39m)\n\u001b[0;32m     <a href='vscode-notebook-cell:/c%3A/Users/sebas/Documents/GitHub/Laboratorio6-7-DeepLearning/lab67.ipynb#W0sZmlsZQ%3D%3D?line=12'>13</a>\u001b[0m \u001b[39m# Dividir los datos en conjuntos de entrenamiento, validación y prueba\u001b[39;00m\n\u001b[1;32m---> <a href='vscode-notebook-cell:/c%3A/Users/sebas/Documents/GitHub/Laboratorio6-7-DeepLearning/lab67.ipynb#W0sZmlsZQ%3D%3D?line=13'>14</a>\u001b[0m x_train, y_train, x_test, y_test \u001b[39m=\u001b[39m train_test_split(ratings, test_size\u001b[39m=\u001b[39m\u001b[39m0.25\u001b[39m)\n\u001b[0;32m     <a href='vscode-notebook-cell:/c%3A/Users/sebas/Documents/GitHub/Laboratorio6-7-DeepLearning/lab67.ipynb#W0sZmlsZQ%3D%3D?line=15'>16</a>\u001b[0m \u001b[39m# Convertir los datos a formato numérico\u001b[39;00m\n\u001b[0;32m     <a href='vscode-notebook-cell:/c%3A/Users/sebas/Documents/GitHub/Laboratorio6-7-DeepLearning/lab67.ipynb#W0sZmlsZQ%3D%3D?line=16'>17</a>\u001b[0m x_train \u001b[39m=\u001b[39m x_train\u001b[39m.\u001b[39mto_numpy()\n",
      "\u001b[1;31mValueError\u001b[0m: not enough values to unpack (expected 4, got 2)"
     ]
    }
   ],
   "source": [
    "import pandas as pd\n",
    "import numpy as np\n",
    "import tensorflow as tf\n",
    "from sklearn.model_selection import train_test_split\n",
    "\n",
    "# Importar los datasets\n",
    "ratings = pd.read_csv(\"./archive/Ratings.csv\")\n",
    "books = pd.read_csv(\"./archive/Books.csv\")\n",
    "\n",
    "# Convertir los ratings a formato numérico\n",
    "ratings[\"Book-Rating\"] = ratings[\"Book-Rating\"].astype(\"float32\")\n",
    "\n",
    "# Dividir los datos en conjuntos de entrenamiento, validación y prueba\n",
    "(x_train, y_train), (x_test, y_test) = train_test_split(ratings, test_size=0.25)\n",
    "\n",
    "# Convertir los datos a formato numérico\n",
    "x_train = x_train.to_numpy()\n",
    "y_train = y_train.to_numpy()\n",
    "x_test = x_test.to_numpy()\n",
    "y_test = y_test.to_numpy()\n",
    "\n",
    "# Embedding layers for users and books\n",
    "user_embedding = tf.keras.layers.Embedding(input_dim=x_train.shape[0], output_dim=64)\n",
    "book_embedding = tf.keras.layers.Embedding(input_dim=x_train.shape[1], output_dim=64)\n",
    "\n",
    "# Dense layer for predicting ratings\n",
    "dense = tf.keras.layers.Dense(1, activation='sigmoid')\n",
    "\n",
    "# Compile the model\n",
    "model = tf.keras.Model(inputs=[user_embedding, book_embedding], outputs=dense)\n",
    "model.compile(optimizer='adam', loss='binary_crossentropy')\n",
    "\n",
    "# Train the model\n",
    "model.fit(x_train, y_train, epochs=10)\n",
    "\n",
    "# Evaluate the model\n",
    "model.evaluate(x_test, y_test)\n",
    "\n",
    "# Make predictions\n",
    "predictions = model.predict(x_test)\n",
    "\n",
    "# Imprimir las predicciones\n",
    "print(predictions)"
   ]
  }
 ],
 "metadata": {
  "kernelspec": {
   "display_name": "Python 3",
   "language": "python",
   "name": "python3"
  },
  "language_info": {
   "codemirror_mode": {
    "name": "ipython",
    "version": 3
   },
   "file_extension": ".py",
   "mimetype": "text/x-python",
   "name": "python",
   "nbconvert_exporter": "python",
   "pygments_lexer": "ipython3",
   "version": "3.11.3"
  }
 },
 "nbformat": 4,
 "nbformat_minor": 2
}
